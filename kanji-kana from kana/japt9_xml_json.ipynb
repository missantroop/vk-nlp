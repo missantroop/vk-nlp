{
 "cells": [
  {
   "cell_type": "code",
   "execution_count": 13,
   "id": "e47f74cc",
   "metadata": {},
   "outputs": [],
   "source": [
    "xml_file = 'nested_example.xml'\n",
    "xsl_file = 'xsl_example.xml'\n",
    "#xsl_file_original = 'example/xsl_example.xml'\n",
    "\n",
    "#example0, example = parse_flatten(xml_file, xsl_file)\n",
    "#example0, example_original = parse_flatten(xml_file, xsl_file_original)\n",
    "\n",
    "with open(xml_file, 'r') as file:\n",
    "    xml = file.read()"
   ]
  },
  {
   "cell_type": "code",
   "execution_count": 116,
   "id": "f03b43a7",
   "metadata": {},
   "outputs": [],
   "source": [
    "import json, xmljson\n",
    "import pandas as pd\n",
    "from lxml.etree import fromstring, tostring\n",
    "\n",
    "xml = open(xml_file, 'r').read()\n",
    "#json = xmltodict.parse(xml)\n",
    "#df = pd.json_normalize(json['t']['book'], 'author')\n",
    "\n",
    "xml_et = fromstring(xml)\n",
    "#json = xmljson.badgerfish.data(xml_et)\n",
    "#json = xmljson.parker.data(xml_et)\n",
    "json = xmljson.yahoo.data(xml_et)"
   ]
  },
  {
   "cell_type": "code",
   "execution_count": 121,
   "id": "a4dc0764",
   "metadata": {},
   "outputs": [
    {
     "data": {
      "text/plain": [
       "'<t>\\n    <book>\\n        <title>My book</title>\\n        <author>\\n            <name>Smith</name>\\n            <nat>UK</nat>\\n        </author>\\n        <author>\\n            <name>Wallace</name>\\n            <nat>UK_US</nat>\\n        </author>\\n        <author>\\n            <name>Brown</name>\\n            <nat>UK</nat>\\n        </author>\\n        <judgement>\\n            <reb>good</reb>\\n        </judgement>\\n        <judgement>\\n            <reb>so-so</reb>\\n        </judgement>\\n        <judgement>\\n            <reb>meh</reb>\\n        </judgement>\\n    </book>\\n    <book>\\n        <title>Other book</title>\\n        <author>\\n            <name>King</name>\\n            <nat>US</nat>\\n        </author>\\n        <author>\\n            <name>Queen</name>\\n            <nat>Kentucky</nat>\\n        </author>\\n        <judgement>\\n            <reb>bad</reb>\\n        </judgement>\\n    </book>\\n</t>\\n'"
      ]
     },
     "execution_count": 121,
     "metadata": {},
     "output_type": "execute_result"
    }
   ],
   "source": [
    "xml"
   ]
  },
  {
   "cell_type": "code",
   "execution_count": 95,
   "id": "06a4f129",
   "metadata": {},
   "outputs": [
    {
     "data": {
      "text/html": [
       "<div>\n",
       "<style scoped>\n",
       "    .dataframe tbody tr th:only-of-type {\n",
       "        vertical-align: middle;\n",
       "    }\n",
       "\n",
       "    .dataframe tbody tr th {\n",
       "        vertical-align: top;\n",
       "    }\n",
       "\n",
       "    .dataframe thead th {\n",
       "        text-align: right;\n",
       "    }\n",
       "</style>\n",
       "<table border=\"1\" class=\"dataframe\">\n",
       "  <thead>\n",
       "    <tr style=\"text-align: right;\">\n",
       "      <th></th>\n",
       "      <th>author</th>\n",
       "      <th>judgement</th>\n",
       "      <th>title.$</th>\n",
       "      <th>judgement.reb.$</th>\n",
       "    </tr>\n",
       "  </thead>\n",
       "  <tbody>\n",
       "    <tr>\n",
       "      <th>0</th>\n",
       "      <td>[{'name': {'$': 'Smith'}, 'nat': {'$': 'UK'}},...</td>\n",
       "      <td>[{'reb': {'$': 'good'}}, {'reb': {'$': 'so-so'...</td>\n",
       "      <td>My book</td>\n",
       "      <td>NaN</td>\n",
       "    </tr>\n",
       "    <tr>\n",
       "      <th>1</th>\n",
       "      <td>[{'name': {'$': 'King'}, 'nat': {'$': 'US'}}, ...</td>\n",
       "      <td>NaN</td>\n",
       "      <td>Other book</td>\n",
       "      <td>bad</td>\n",
       "    </tr>\n",
       "  </tbody>\n",
       "</table>\n",
       "</div>"
      ],
      "text/plain": [
       "                                              author  \\\n",
       "0  [{'name': {'$': 'Smith'}, 'nat': {'$': 'UK'}},...   \n",
       "1  [{'name': {'$': 'King'}, 'nat': {'$': 'US'}}, ...   \n",
       "\n",
       "                                           judgement     title.$  \\\n",
       "0  [{'reb': {'$': 'good'}}, {'reb': {'$': 'so-so'...     My book   \n",
       "1                                                NaN  Other book   \n",
       "\n",
       "  judgement.reb.$  \n",
       "0             NaN  \n",
       "1             bad  "
      ]
     },
     "execution_count": 95,
     "metadata": {},
     "output_type": "execute_result"
    }
   ],
   "source": [
    "pd.json_normalize(json['t'], 'book')"
   ]
  },
  {
   "cell_type": "markdown",
   "id": "4cef69cb",
   "metadata": {},
   "source": [
    "# Work on real dictionary data"
   ]
  },
  {
   "cell_type": "code",
   "execution_count": 33,
   "id": "3d30375d",
   "metadata": {},
   "outputs": [],
   "source": [
    "xml_file = 'JMdict_sample.xml'\n",
    "xsl_file = 'JMdict_xsl.xml'\n",
    "\n",
    "live0, live = parse_flatten(xml_file, xsl_file)"
   ]
  },
  {
   "cell_type": "code",
   "execution_count": 34,
   "id": "1cb7178c",
   "metadata": {},
   "outputs": [
    {
     "data": {
      "text/html": [
       "<div>\n",
       "<style scoped>\n",
       "    .dataframe tbody tr th:only-of-type {\n",
       "        vertical-align: middle;\n",
       "    }\n",
       "\n",
       "    .dataframe tbody tr th {\n",
       "        vertical-align: top;\n",
       "    }\n",
       "\n",
       "    .dataframe thead th {\n",
       "        text-align: right;\n",
       "    }\n",
       "</style>\n",
       "<table border=\"1\" class=\"dataframe\">\n",
       "  <thead>\n",
       "    <tr style=\"text-align: right;\">\n",
       "      <th></th>\n",
       "      <th>ent_seq</th>\n",
       "      <th>k_ele</th>\n",
       "      <th>r_ele</th>\n",
       "      <th>sense</th>\n",
       "    </tr>\n",
       "  </thead>\n",
       "  <tbody>\n",
       "    <tr>\n",
       "      <th>0</th>\n",
       "      <td>1631880</td>\n",
       "      <td>NaN</td>\n",
       "      <td>NaN</td>\n",
       "      <td>NaN</td>\n",
       "    </tr>\n",
       "  </tbody>\n",
       "</table>\n",
       "</div>"
      ],
      "text/plain": [
       "   ent_seq  k_ele  r_ele  sense\n",
       "0  1631880    NaN    NaN    NaN"
      ]
     },
     "execution_count": 34,
     "metadata": {},
     "output_type": "execute_result"
    }
   ],
   "source": [
    "live0"
   ]
  },
  {
   "cell_type": "code",
   "execution_count": 35,
   "id": "14bd82bf",
   "metadata": {},
   "outputs": [
    {
     "data": {
      "text/html": [
       "<div>\n",
       "<style scoped>\n",
       "    .dataframe tbody tr th:only-of-type {\n",
       "        vertical-align: middle;\n",
       "    }\n",
       "\n",
       "    .dataframe tbody tr th {\n",
       "        vertical-align: top;\n",
       "    }\n",
       "\n",
       "    .dataframe thead th {\n",
       "        text-align: right;\n",
       "    }\n",
       "</style>\n",
       "<table border=\"1\" class=\"dataframe\">\n",
       "  <thead>\n",
       "    <tr style=\"text-align: right;\">\n",
       "      <th></th>\n",
       "      <th>ent_seq</th>\n",
       "      <th>k_ele</th>\n",
       "      <th>r_ele</th>\n",
       "      <th>sense</th>\n",
       "    </tr>\n",
       "  </thead>\n",
       "  <tbody>\n",
       "    <tr>\n",
       "      <th>0</th>\n",
       "      <td>1631880</td>\n",
       "      <td>NaN</td>\n",
       "      <td>NaN</td>\n",
       "      <td>NaN</td>\n",
       "    </tr>\n",
       "  </tbody>\n",
       "</table>\n",
       "</div>"
      ],
      "text/plain": [
       "   ent_seq  k_ele  r_ele  sense\n",
       "0  1631880    NaN    NaN    NaN"
      ]
     },
     "execution_count": 35,
     "metadata": {},
     "output_type": "execute_result"
    }
   ],
   "source": [
    "live"
   ]
  },
  {
   "cell_type": "code",
   "execution_count": null,
   "id": "04118e18",
   "metadata": {},
   "outputs": [],
   "source": []
  },
  {
   "cell_type": "code",
   "execution_count": null,
   "id": "69872ad1",
   "metadata": {},
   "outputs": [],
   "source": [
    "jmd[jmd['ent_seq']==1431690]"
   ]
  }
 ],
 "metadata": {
  "kernelspec": {
   "display_name": "Python 3 (ipykernel)",
   "language": "python",
   "name": "python3"
  },
  "language_info": {
   "codemirror_mode": {
    "name": "ipython",
    "version": 3
   },
   "file_extension": ".py",
   "mimetype": "text/x-python",
   "name": "python",
   "nbconvert_exporter": "python",
   "pygments_lexer": "ipython3",
   "version": "3.9.1"
  }
 },
 "nbformat": 4,
 "nbformat_minor": 5
}
