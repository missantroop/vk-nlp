{
 "cells": [
  {
   "cell_type": "code",
   "execution_count": 13,
   "id": "e47f74cc",
   "metadata": {},
   "outputs": [],
   "source": [
    "xml_file = 'nested_example.xml'\n",
    "xsl_file = 'xsl_example.xml'\n",
    "#xsl_file_original = 'example/xsl_example.xml'\n",
    "\n",
    "#example0, example = parse_flatten(xml_file, xsl_file)\n",
    "#example0, example_original = parse_flatten(xml_file, xsl_file_original)\n",
    "\n",
    "with open(xml_file, 'r') as file:\n",
    "    xml = file.read()"
   ]
  },
  {
   "cell_type": "code",
   "execution_count": 59,
   "id": "81b685a6",
   "metadata": {},
   "outputs": [],
   "source": [
    "import json, xmljson\n",
    "import pandas as pd\n",
    "\n",
    "xml = open(xml_file, 'r').read()\n",
    "json = xmltodict.parse(xml)\n",
    "#df = pd.json_normalize(json['t']['book'], 'author')"
   ]
  },
  {
   "cell_type": "code",
   "execution_count": 67,
   "id": "e9b698b6",
   "metadata": {},
   "outputs": [
    {
     "ename": "NameError",
     "evalue": "name 'OrderedDict' is not defined",
     "output_type": "error",
     "traceback": [
      "\u001b[1;31m---------------------------------------------------------------------------\u001b[0m",
      "\u001b[1;31mNameError\u001b[0m                                 Traceback (most recent call last)",
      "\u001b[1;32m~\\AppData\\Local\\Temp/ipykernel_2508/3746297674.py\u001b[0m in \u001b[0;36m<module>\u001b[1;34m\u001b[0m\n\u001b[1;32m----> 1\u001b[1;33m \u001b[0mtype\u001b[0m\u001b[1;33m(\u001b[0m\u001b[0mjson\u001b[0m\u001b[1;33m[\u001b[0m\u001b[1;34m't'\u001b[0m\u001b[1;33m]\u001b[0m\u001b[1;33m[\u001b[0m\u001b[1;34m'book'\u001b[0m\u001b[1;33m]\u001b[0m\u001b[1;33m[\u001b[0m\u001b[1;36m0\u001b[0m\u001b[1;33m]\u001b[0m\u001b[1;33m)\u001b[0m\u001b[1;33m==\u001b[0m\u001b[0mOrderedDict\u001b[0m\u001b[1;33m(\u001b[0m\u001b[1;33m)\u001b[0m\u001b[1;33m\u001b[0m\u001b[1;33m\u001b[0m\u001b[0m\n\u001b[0m",
      "\u001b[1;31mNameError\u001b[0m: name 'OrderedDict' is not defined"
     ]
    }
   ],
   "source": [
    "type(json['t']['book'][0])==OrderedDict.isinstance()"
   ]
  },
  {
   "cell_type": "code",
   "execution_count": 61,
   "id": "45ab88c3",
   "metadata": {},
   "outputs": [
    {
     "data": {
      "text/plain": [
       "OrderedDict([('title', 'My book'),\n",
       "             ('author',\n",
       "              [OrderedDict([('name', 'Smith'), ('nat', 'UK')]),\n",
       "               OrderedDict([('name', 'Wallace'), ('nat', 'UK_US')]),\n",
       "               OrderedDict([('name', 'Brown'), ('nat', 'UK')])]),\n",
       "             ('judgement',\n",
       "              [OrderedDict([('reb', 'good')]),\n",
       "               OrderedDict([('reb', 'so-so')]),\n",
       "               OrderedDict([('reb', 'meh')])])])"
      ]
     },
     "execution_count": 61,
     "metadata": {},
     "output_type": "execute_result"
    }
   ],
   "source": [
    "json['t']['book'][0]"
   ]
  },
  {
   "cell_type": "code",
   "execution_count": 45,
   "id": "359f0c28",
   "metadata": {},
   "outputs": [
    {
     "data": {
      "text/html": [
       "<div>\n",
       "<style scoped>\n",
       "    .dataframe tbody tr th:only-of-type {\n",
       "        vertical-align: middle;\n",
       "    }\n",
       "\n",
       "    .dataframe tbody tr th {\n",
       "        vertical-align: top;\n",
       "    }\n",
       "\n",
       "    .dataframe thead th {\n",
       "        text-align: right;\n",
       "    }\n",
       "</style>\n",
       "<table border=\"1\" class=\"dataframe\">\n",
       "  <thead>\n",
       "    <tr style=\"text-align: right;\">\n",
       "      <th></th>\n",
       "      <th>title</th>\n",
       "      <th>author</th>\n",
       "      <th>judgement</th>\n",
       "      <th>judgement.reb</th>\n",
       "    </tr>\n",
       "  </thead>\n",
       "  <tbody>\n",
       "    <tr>\n",
       "      <th>0</th>\n",
       "      <td>My book</td>\n",
       "      <td>[{'name': 'Smith', 'nat': 'UK'}, {'name': 'Wal...</td>\n",
       "      <td>[{'reb': 'good'}, {'reb': 'so-so'}, {'reb': 'm...</td>\n",
       "      <td>NaN</td>\n",
       "    </tr>\n",
       "    <tr>\n",
       "      <th>1</th>\n",
       "      <td>Other book</td>\n",
       "      <td>[{'name': 'King', 'nat': 'US'}, {'name': 'Quee...</td>\n",
       "      <td>NaN</td>\n",
       "      <td>bad</td>\n",
       "    </tr>\n",
       "  </tbody>\n",
       "</table>\n",
       "</div>"
      ],
      "text/plain": [
       "        title                                             author  \\\n",
       "0     My book  [{'name': 'Smith', 'nat': 'UK'}, {'name': 'Wal...   \n",
       "1  Other book  [{'name': 'King', 'nat': 'US'}, {'name': 'Quee...   \n",
       "\n",
       "                                           judgement judgement.reb  \n",
       "0  [{'reb': 'good'}, {'reb': 'so-so'}, {'reb': 'm...           NaN  \n",
       "1                                                NaN           bad  "
      ]
     },
     "execution_count": 45,
     "metadata": {},
     "output_type": "execute_result"
    }
   ],
   "source": [
    "pd.json_normalize(json['t'], 'book', )"
   ]
  },
  {
   "cell_type": "markdown",
   "id": "4cef69cb",
   "metadata": {},
   "source": [
    "# Work on real dictionary data"
   ]
  },
  {
   "cell_type": "code",
   "execution_count": 33,
   "id": "3d30375d",
   "metadata": {},
   "outputs": [],
   "source": [
    "xml_file = 'JMdict_sample.xml'\n",
    "xsl_file = 'JMdict_xsl.xml'\n",
    "\n",
    "live0, live = parse_flatten(xml_file, xsl_file)"
   ]
  },
  {
   "cell_type": "code",
   "execution_count": 34,
   "id": "1cb7178c",
   "metadata": {},
   "outputs": [
    {
     "data": {
      "text/html": [
       "<div>\n",
       "<style scoped>\n",
       "    .dataframe tbody tr th:only-of-type {\n",
       "        vertical-align: middle;\n",
       "    }\n",
       "\n",
       "    .dataframe tbody tr th {\n",
       "        vertical-align: top;\n",
       "    }\n",
       "\n",
       "    .dataframe thead th {\n",
       "        text-align: right;\n",
       "    }\n",
       "</style>\n",
       "<table border=\"1\" class=\"dataframe\">\n",
       "  <thead>\n",
       "    <tr style=\"text-align: right;\">\n",
       "      <th></th>\n",
       "      <th>ent_seq</th>\n",
       "      <th>k_ele</th>\n",
       "      <th>r_ele</th>\n",
       "      <th>sense</th>\n",
       "    </tr>\n",
       "  </thead>\n",
       "  <tbody>\n",
       "    <tr>\n",
       "      <th>0</th>\n",
       "      <td>1631880</td>\n",
       "      <td>NaN</td>\n",
       "      <td>NaN</td>\n",
       "      <td>NaN</td>\n",
       "    </tr>\n",
       "  </tbody>\n",
       "</table>\n",
       "</div>"
      ],
      "text/plain": [
       "   ent_seq  k_ele  r_ele  sense\n",
       "0  1631880    NaN    NaN    NaN"
      ]
     },
     "execution_count": 34,
     "metadata": {},
     "output_type": "execute_result"
    }
   ],
   "source": [
    "live0"
   ]
  },
  {
   "cell_type": "code",
   "execution_count": 35,
   "id": "14bd82bf",
   "metadata": {},
   "outputs": [
    {
     "data": {
      "text/html": [
       "<div>\n",
       "<style scoped>\n",
       "    .dataframe tbody tr th:only-of-type {\n",
       "        vertical-align: middle;\n",
       "    }\n",
       "\n",
       "    .dataframe tbody tr th {\n",
       "        vertical-align: top;\n",
       "    }\n",
       "\n",
       "    .dataframe thead th {\n",
       "        text-align: right;\n",
       "    }\n",
       "</style>\n",
       "<table border=\"1\" class=\"dataframe\">\n",
       "  <thead>\n",
       "    <tr style=\"text-align: right;\">\n",
       "      <th></th>\n",
       "      <th>ent_seq</th>\n",
       "      <th>k_ele</th>\n",
       "      <th>r_ele</th>\n",
       "      <th>sense</th>\n",
       "    </tr>\n",
       "  </thead>\n",
       "  <tbody>\n",
       "    <tr>\n",
       "      <th>0</th>\n",
       "      <td>1631880</td>\n",
       "      <td>NaN</td>\n",
       "      <td>NaN</td>\n",
       "      <td>NaN</td>\n",
       "    </tr>\n",
       "  </tbody>\n",
       "</table>\n",
       "</div>"
      ],
      "text/plain": [
       "   ent_seq  k_ele  r_ele  sense\n",
       "0  1631880    NaN    NaN    NaN"
      ]
     },
     "execution_count": 35,
     "metadata": {},
     "output_type": "execute_result"
    }
   ],
   "source": [
    "live"
   ]
  },
  {
   "cell_type": "code",
   "execution_count": null,
   "id": "04118e18",
   "metadata": {},
   "outputs": [],
   "source": []
  },
  {
   "cell_type": "code",
   "execution_count": null,
   "id": "69872ad1",
   "metadata": {},
   "outputs": [],
   "source": [
    "jmd[jmd['ent_seq']==1431690]"
   ]
  }
 ],
 "metadata": {
  "kernelspec": {
   "display_name": "Python 3 (ipykernel)",
   "language": "python",
   "name": "python3"
  },
  "language_info": {
   "codemirror_mode": {
    "name": "ipython",
    "version": 3
   },
   "file_extension": ".py",
   "mimetype": "text/x-python",
   "name": "python",
   "nbconvert_exporter": "python",
   "pygments_lexer": "ipython3",
   "version": "3.9.1"
  }
 },
 "nbformat": 4,
 "nbformat_minor": 5
}
