{
 "cells": [
  {
   "cell_type": "code",
   "execution_count": 24,
   "id": "c2f1c397",
   "metadata": {},
   "outputs": [],
   "source": [
    "import pandas as pd\n",
    "\n",
    "def parse_flatten(xml_file, xsl_file):\n",
    "    with open(xsl_file, 'r') as file:\n",
    "        xsl = file.read()\n",
    "        \n",
    "    df0 = pd.read_xml(xml_file,parser='lxml')\n",
    "    df = pd.read_xml(xml_file,parser='lxml',stylesheet=xsl)\n",
    "    \n",
    "    return df0, df"
   ]
  },
  {
   "cell_type": "code",
   "execution_count": 25,
   "id": "3af02cba",
   "metadata": {},
   "outputs": [],
   "source": [
    "xml_file = 'nested_example.xml'\n",
    "xsl_file = 'xsl_example.xml'\n",
    "\n",
    "example0, example = parse_flatten(xml_file, xsl_file)"
   ]
  },
  {
   "cell_type": "code",
   "execution_count": 26,
   "id": "b0e340b8",
   "metadata": {},
   "outputs": [
    {
     "data": {
      "text/html": [
       "<div>\n",
       "<style scoped>\n",
       "    .dataframe tbody tr th:only-of-type {\n",
       "        vertical-align: middle;\n",
       "    }\n",
       "\n",
       "    .dataframe tbody tr th {\n",
       "        vertical-align: top;\n",
       "    }\n",
       "\n",
       "    .dataframe thead th {\n",
       "        text-align: right;\n",
       "    }\n",
       "</style>\n",
       "<table border=\"1\" class=\"dataframe\">\n",
       "  <thead>\n",
       "    <tr style=\"text-align: right;\">\n",
       "      <th></th>\n",
       "      <th>title</th>\n",
       "      <th>pages</th>\n",
       "      <th>size</th>\n",
       "      <th>author</th>\n",
       "    </tr>\n",
       "  </thead>\n",
       "  <tbody>\n",
       "    <tr>\n",
       "      <th>0</th>\n",
       "      <td>My book</td>\n",
       "      <td>200</td>\n",
       "      <td>big</td>\n",
       "      <td>NaN</td>\n",
       "    </tr>\n",
       "    <tr>\n",
       "      <th>1</th>\n",
       "      <td>Other book</td>\n",
       "      <td>100</td>\n",
       "      <td>small</td>\n",
       "      <td>King</td>\n",
       "    </tr>\n",
       "    <tr>\n",
       "      <th>2</th>\n",
       "      <td>Pretty book</td>\n",
       "      <td>150</td>\n",
       "      <td>medium</td>\n",
       "      <td>None</td>\n",
       "    </tr>\n",
       "  </tbody>\n",
       "</table>\n",
       "</div>"
      ],
      "text/plain": [
       "         title  pages    size author\n",
       "0      My book    200     big    NaN\n",
       "1   Other book    100   small   King\n",
       "2  Pretty book    150  medium   None"
      ]
     },
     "execution_count": 26,
     "metadata": {},
     "output_type": "execute_result"
    }
   ],
   "source": [
    "example0"
   ]
  },
  {
   "cell_type": "code",
   "execution_count": 27,
   "id": "708d6cec",
   "metadata": {},
   "outputs": [
    {
     "data": {
      "text/html": [
       "<div>\n",
       "<style scoped>\n",
       "    .dataframe tbody tr th:only-of-type {\n",
       "        vertical-align: middle;\n",
       "    }\n",
       "\n",
       "    .dataframe tbody tr th {\n",
       "        vertical-align: top;\n",
       "    }\n",
       "\n",
       "    .dataframe thead th {\n",
       "        text-align: right;\n",
       "    }\n",
       "</style>\n",
       "<table border=\"1\" class=\"dataframe\">\n",
       "  <thead>\n",
       "    <tr style=\"text-align: right;\">\n",
       "      <th></th>\n",
       "      <th>style</th>\n",
       "      <th>title</th>\n",
       "      <th>pages</th>\n",
       "      <th>size</th>\n",
       "      <th>author-name</th>\n",
       "    </tr>\n",
       "  </thead>\n",
       "  <tbody>\n",
       "    <tr>\n",
       "      <th>0</th>\n",
       "      <td>even</td>\n",
       "      <td>My book</td>\n",
       "      <td>200</td>\n",
       "      <td>big</td>\n",
       "      <td>Smith</td>\n",
       "    </tr>\n",
       "    <tr>\n",
       "      <th>1</th>\n",
       "      <td>odd</td>\n",
       "      <td>My book</td>\n",
       "      <td>200</td>\n",
       "      <td>big</td>\n",
       "      <td>Wallace</td>\n",
       "    </tr>\n",
       "    <tr>\n",
       "      <th>2</th>\n",
       "      <td>even</td>\n",
       "      <td>My book</td>\n",
       "      <td>200</td>\n",
       "      <td>big</td>\n",
       "      <td>Brown</td>\n",
       "    </tr>\n",
       "    <tr>\n",
       "      <th>3</th>\n",
       "      <td>odd</td>\n",
       "      <td>Other book</td>\n",
       "      <td>100</td>\n",
       "      <td>small</td>\n",
       "      <td>King</td>\n",
       "    </tr>\n",
       "    <tr>\n",
       "      <th>4</th>\n",
       "      <td>even</td>\n",
       "      <td>Pretty book</td>\n",
       "      <td>150</td>\n",
       "      <td>medium</td>\n",
       "      <td>None</td>\n",
       "    </tr>\n",
       "  </tbody>\n",
       "</table>\n",
       "</div>"
      ],
      "text/plain": [
       "  style        title  pages    size author-name\n",
       "0  even      My book    200     big       Smith\n",
       "1   odd      My book    200     big     Wallace\n",
       "2  even      My book    200     big       Brown\n",
       "3   odd   Other book    100   small        King\n",
       "4  even  Pretty book    150  medium        None"
      ]
     },
     "execution_count": 27,
     "metadata": {},
     "output_type": "execute_result"
    }
   ],
   "source": [
    "example"
   ]
  },
  {
   "cell_type": "code",
   "execution_count": null,
   "id": "3d30375d",
   "metadata": {},
   "outputs": [],
   "source": [
    "xml_file = 'JMdict_sample.xml'\n",
    "xsl_file = 'JMdict_xsl.xml'"
   ]
  },
  {
   "cell_type": "code",
   "execution_count": null,
   "id": "1cb7178c",
   "metadata": {},
   "outputs": [],
   "source": []
  },
  {
   "cell_type": "code",
   "execution_count": null,
   "id": "14bd82bf",
   "metadata": {},
   "outputs": [],
   "source": []
  },
  {
   "cell_type": "code",
   "execution_count": null,
   "id": "04118e18",
   "metadata": {},
   "outputs": [],
   "source": []
  },
  {
   "cell_type": "code",
   "execution_count": null,
   "id": "69872ad1",
   "metadata": {},
   "outputs": [],
   "source": [
    "jmd[jmd['ent_seq']==1431690]"
   ]
  }
 ],
 "metadata": {
  "kernelspec": {
   "display_name": "Python 3 (ipykernel)",
   "language": "python",
   "name": "python3"
  },
  "language_info": {
   "codemirror_mode": {
    "name": "ipython",
    "version": 3
   },
   "file_extension": ".py",
   "mimetype": "text/x-python",
   "name": "python",
   "nbconvert_exporter": "python",
   "pygments_lexer": "ipython3",
   "version": "3.9.1"
  }
 },
 "nbformat": 4,
 "nbformat_minor": 5
}
