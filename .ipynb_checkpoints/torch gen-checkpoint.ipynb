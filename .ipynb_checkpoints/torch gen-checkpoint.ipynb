{
 "cells": [
  {
   "cell_type": "code",
   "execution_count": 123,
   "id": "personalized-indication",
   "metadata": {},
   "outputs": [],
   "source": [
    "import pandas as p\n",
    "import numpy as n\n",
    "import torch as t\n",
    "import torch.nn as nn\n",
    "\n",
    "p.set_option('display.max_rows', 1000)"
   ]
  },
  {
   "cell_type": "code",
   "execution_count": 124,
   "id": "cloudy-christmas",
   "metadata": {},
   "outputs": [],
   "source": [
    "df = p.read_csv('df_dump.csv')\n",
    "artists = list(df[~p.isna(df['artist'])].drop_duplicates(['artist']).sort_values(['artist']).reset_index(drop=True)['artist'])\n",
    "titles = list(df[~p.isna(df['title'])].drop_duplicates(['title']).sort_values(['artist']).reset_index(drop=True)['title'])"
   ]
  },
  {
   "cell_type": "code",
   "execution_count": 118,
   "id": "aquatic-phone",
   "metadata": {},
   "outputs": [
    {
     "data": {
      "text/plain": [
       "'DASVASSER'"
      ]
     },
     "execution_count": 118,
     "metadata": {},
     "output_type": "execute_result"
    }
   ],
   "source": [
    "test=artists[100]\n",
    "unicodeToAscii(test)"
   ]
  },
  {
   "cell_type": "code",
   "execution_count": 149,
   "id": "limiting-hygiene",
   "metadata": {},
   "outputs": [],
   "source": [
    "import unicodedata\n",
    "import string\n",
    "\n",
    "all_letters = string.ascii_letters + \" .,;''\"\n",
    "n_letters = len(all_letters)\n",
    "\n",
    "def unicodeToAscii(s):\n",
    "    x = ''.join(\n",
    "        c for c in unicodedata.normalize('NFD', s)\n",
    "        if unicodedata.category(c) != 'Mn'\n",
    "        and c in all_letters\n",
    "    )\n",
    "    \n",
    "    if len(x)>0:\n",
    "        return x.strip()\n",
    "\n",
    "#\n",
    "artists_fudged = list(filter(None,map(unicodeToAscii,artists)))\n",
    "titles_fudged = list(filter(None,map(unicodeToAscii,titles)))\n",
    "\n",
    "lines = artists_fudged\n",
    "\n",
    "def letterToIndex(letter):\n",
    "    return all_letters.find(letter)\n",
    "\n",
    "def letterToTensor(letter):\n",
    "    tensor = t.zeros(1, n_letters)\n",
    "    tensor[0][letterToIndex(letter)] = 1\n",
    "    return tensor\n",
    "\n",
    "def lineToTensor(line):\n",
    "    tensor = t.zeros(len(line), 1, n_letters)\n",
    "    for li, letter in enumerate(line):\n",
    "        tensor[li][0][letterToIndex(letter)] = 1\n",
    "    return tensor\n",
    "\n"
   ]
  },
  {
   "cell_type": "code",
   "execution_count": 134,
   "id": "flying-horizontal",
   "metadata": {},
   "outputs": [],
   "source": [
    "class RNN(nn.Module):\n",
    "    def __init__(self, input_size, hidden_size, output_size):\n",
    "        super(RNN, self).__init__()\n",
    "        self.hidden_size = hidden_size\n",
    "        \n",
    "        self.i2h = nn.Linear(0 + input_size + hidden_size, hidden_size)\n",
    "        self.i2o = nn.Linear(0 + input_size + hidden_size, output_size)\n",
    "        self.o2o = nn.Linear(hidden_size + output_size, output_size)\n",
    "        self.dropout = nn.Dropout(0.1)\n",
    "        self.softmax = nn.LogSoftmax(dim=1)\n",
    "        \n",
    "    def forward(self, input, hidden):\n",
    "        input_combined = t.cat((input, hidden), 1)\n",
    "        hidden = self.i2h(input_combined)\n",
    "        output = self.i2o(input_combined)\n",
    "        output_combined = t.cat((hidden, output), 1)\n",
    "        output = self.o2o(output_combined)\n",
    "        output = self.dropout(output)\n",
    "        output = self.softmax(output)\n",
    "        return output, hidden\n",
    "    \n",
    "    def initHidden(self):\n",
    "        return t.zeros(1, self.hidden_size)\n",
    "    \n",
    "def inputTensor(line):\n",
    "    tensor = t.zeros(len(line), 1, n_letters)\n",
    "    for li in range(len(line)):\n",
    "        letter = line[li]\n",
    "        tensor[li][0][all_letters.find(letter)] = 1\n",
    "    return tensor\n",
    "\n",
    "def targetTensor(line):\n",
    "    letter_indexes = [all_letters.find(line[li]) for li in range(1, len(line))]\n",
    "    letter_indexes.append(n_letters - 1) \n",
    "    return t.LongTensor(letter_indexes)\n",
    "\n",
    "def randomTrainingExample():\n",
    "    line = randomLine()\n",
    "    input_line_tensor = inputTensor(line)\n",
    "    target_line_tensor = targetTensor(line)\n",
    "    return input_line_tensor, target_line_tensor"
   ]
  },
  {
   "cell_type": "code",
   "execution_count": 127,
   "id": "devoted-gamma",
   "metadata": {},
   "outputs": [],
   "source": [
    "import random\n",
    "\n",
    "def randomChoice(l):\n",
    "    return l[random.randint(0, len(l)-1)]\n",
    "\n",
    "def randomLine():\n",
    "    return randomChoice(lines)\n",
    "\n",
    "import time\n",
    "import math\n",
    "\n",
    "def timeSince(since):\n",
    "    now = time.time()\n",
    "    s = now - since\n",
    "    m = math.floor(s / 60)\n",
    "    s -= m * 60\n",
    "    return '%dm %ds' % (m, s)"
   ]
  },
  {
   "cell_type": "code",
   "execution_count": 136,
   "id": "recreational-ending",
   "metadata": {},
   "outputs": [],
   "source": [
    "criterion = nn.NLLLoss()\n",
    "learning_rate = 5e-4\n",
    "\n",
    "def train(input_line_tensor, target_line_tensor):\n",
    "    target_line_tensor.unsqueeze_(-1)\n",
    "    hidden = rnn.initHidden()\n",
    "    \n",
    "    rnn.zero_grad()\n",
    "    \n",
    "    loss = 0\n",
    "    \n",
    "    for i in range(input_line_tensor.size(0)):\n",
    "        output, hidden = rnn(input_line_tensor[i], hidden)\n",
    "        l = criterion(output, target_line_tensor[i])\n",
    "        loss += l\n",
    "        \n",
    "    loss.backward()\n",
    "    \n",
    "    for p in rnn.parameters():\n",
    "        p.data.add_(p.grad.data, alpha=-learning_rate)\n",
    "    \n",
    "    return output, loss.item() / input_line_tensor.size(0)"
   ]
  },
  {
   "cell_type": "code",
   "execution_count": 150,
   "id": "moving-membrane",
   "metadata": {},
   "outputs": [
    {
     "name": "stdout",
     "output_type": "stream",
     "text": [
      "0m 17s (5000 5%) 3.5757\n",
      "0m 35s (10000 10%) 3.2239\n",
      "0m 52s (15000 15%) 3.0718\n",
      "1m 8s (20000 20%) 2.9381\n",
      "1m 26s (25000 25%) 2.6455\n",
      "1m 44s (30000 30%) 2.9046\n",
      "2m 0s (35000 35%) 2.2403\n",
      "2m 17s (40000 40%) 1.8664\n",
      "2m 35s (45000 45%) 3.3680\n",
      "2m 52s (50000 50%) 3.6600\n",
      "3m 10s (55000 55%) 2.5179\n",
      "3m 27s (60000 60%) 3.1283\n",
      "3m 45s (65000 65%) 3.5087\n",
      "4m 4s (70000 70%) 2.4828\n",
      "4m 21s (75000 75%) 2.6512\n",
      "4m 40s (80000 80%) 2.6414\n",
      "4m 58s (85000 85%) 2.4277\n",
      "5m 14s (90000 90%) 1.7162\n",
      "5m 32s (95000 95%) 2.6182\n",
      "5m 49s (100000 100%) 2.2202\n"
     ]
    }
   ],
   "source": [
    "rnn = RNN(n_letters, 128, n_letters)\n",
    "\n",
    "n_iters = 100000\n",
    "print_every = 5000\n",
    "plot_every = 500\n",
    "all_losses = []\n",
    "total_loss = 0 # Reset every plot_every iters\n",
    "\n",
    "start = time.time()\n",
    "\n",
    "for iter in range(1, n_iters + 1):\n",
    "    output, loss = train(*randomTrainingExample())\n",
    "    total_loss += loss\n",
    "\n",
    "    if iter % print_every == 0:\n",
    "        print('%s (%d %d%%) %.4f' % (timeSince(start), iter, iter / n_iters * 100, loss))\n",
    "\n",
    "    if iter % plot_every == 0:\n",
    "        all_losses.append(total_loss / plot_every)\n",
    "        total_loss = 0"
   ]
  },
  {
   "cell_type": "code",
   "execution_count": 151,
   "id": "unlike-mercy",
   "metadata": {},
   "outputs": [
    {
     "data": {
      "text/plain": [
       "[<matplotlib.lines.Line2D at 0x2928ca8d970>]"
      ]
     },
     "execution_count": 151,
     "metadata": {},
     "output_type": "execute_result"
    },
    {
     "data": {
      "image/png": "[encoded data removed]",
      "text/plain": [
       "<Figure size 432x288 with 1 Axes>"
      ]
     },
     "metadata": {
      "needs_background": "light"
     },
     "output_type": "display_data"
    }
   ],
   "source": [
    "import matplotlib.pyplot as plt\n",
    "import matplotlib.ticker as ticker\n",
    "\n",
    "plt.figure()\n",
    "plt.plot(all_losses)"
   ]
  },
  {
   "cell_type": "code",
   "execution_count": 176,
   "id": "changing-celebration",
   "metadata": {},
   "outputs": [],
   "source": [
    "max_length = 20\n",
    "\n",
    "# Sample from a category and starting letter\n",
    "def sample(start_letter='A'):\n",
    "    with t.no_grad():  # no need to track history in sampling\n",
    "        input = inputTensor(start_letter)\n",
    "        hidden = rnn.initHidden()\n",
    "\n",
    "        output_name = start_letter\n",
    "\n",
    "        for i in range(max_length):\n",
    "            output, hidden = rnn(input[-1], hidden)\n",
    "            topv, topi = output.topk(1)\n",
    "            topi = topi[0][0]\n",
    "            if topi == n_letters - 1:\n",
    "                break\n",
    "            else:\n",
    "                letter = all_letters[topi]\n",
    "                output_name += letter\n",
    "            input = inputTensor(letter)\n",
    "\n",
    "        return output_name\n",
    "\n",
    "# Get multiple samples from one category and multiple starting letters\n",
    "def samples(start_letters='ABC'):\n",
    "    for start_letter in start_letters:\n",
    "        print(sample(start_letter))\n",
    "        \n",
    "# make suer this oen works\n",
    "def samples2(start_syll):\n",
    "    for syll in start_syll:\n",
    "        print(sample(syll))"
   ]
  },
  {
   "cell_type": "code",
   "execution_count": 178,
   "id": "assisted-surveillance",
   "metadata": {},
   "outputs": [
    {
     "name": "stdout",
     "output_type": "stream",
     "text": [
      "Laromaroun\n",
      "Luremis\n",
      "Merayla\n",
      "MALLENAIL\n"
     ]
    }
   ],
   "source": [
    "samples2(['La','Lu','Me','MA'])"
   ]
  }
 ],
 "metadata": {
  "kernelspec": {
   "display_name": "Python 3",
   "language": "python",
   "name": "python3"
  },
  "language_info": {
   "codemirror_mode": {
    "name": "ipython",
    "version": 3
   },
   "file_extension": ".py",
   "mimetype": "text/x-python",
   "name": "python",
   "nbconvert_exporter": "python",
   "pygments_lexer": "ipython3",
   "version": "3.9.1"
  }
 },
 "nbformat": 4,
 "nbformat_minor": 5
}
