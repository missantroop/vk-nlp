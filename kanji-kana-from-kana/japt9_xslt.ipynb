{
 "cells": [
  {
   "cell_type": "code",
   "execution_count": 73,
   "id": "c2f1c397",
   "metadata": {},
   "outputs": [],
   "source": [
    "import pandas as pd\n",
    "\n",
    "def parse_flatten(xml_file, xsl_file):\n",
    "    with open(xsl_file, 'r') as file:\n",
    "        xsl = file.read()\n",
    "        \n",
    "    df0 = pd.read_xml(xml_file,parser='lxml')\n",
    "    df = pd.read_xml(xml_file,parser='lxml',stylesheet=xsl)\n",
    "    \n",
    "    return df0, df"
   ]
  },
  {
   "cell_type": "code",
   "execution_count": 84,
   "id": "dface3b4",
   "metadata": {},
   "outputs": [],
   "source": [
    "xml_file = 'nested_example.xml'\n",
    "xsl_file = 'xsl_example.xml'\n",
    "xsl_file_original = 'example/xsl_example.xml'\n",
    "\n",
    "example0, example = parse_flatten(xml_file, xsl_file)\n",
    "#example0, example_original = parse_flatten(xml_file, xsl_file_original)"
   ]
  },
  {
   "cell_type": "code",
   "execution_count": 85,
   "id": "be522b20",
   "metadata": {},
   "outputs": [
    {
     "data": {
      "text/html": [
       "<div>\n",
       "<style scoped>\n",
       "    .dataframe tbody tr th:only-of-type {\n",
       "        vertical-align: middle;\n",
       "    }\n",
       "\n",
       "    .dataframe tbody tr th {\n",
       "        vertical-align: top;\n",
       "    }\n",
       "\n",
       "    .dataframe thead th {\n",
       "        text-align: right;\n",
       "    }\n",
       "</style>\n",
       "<table border=\"1\" class=\"dataframe\">\n",
       "  <thead>\n",
       "    <tr style=\"text-align: right;\">\n",
       "      <th></th>\n",
       "      <th>title</th>\n",
       "      <th>author</th>\n",
       "      <th>judgement</th>\n",
       "    </tr>\n",
       "  </thead>\n",
       "  <tbody>\n",
       "    <tr>\n",
       "      <th>0</th>\n",
       "      <td>My book</td>\n",
       "      <td>NaN</td>\n",
       "      <td>NaN</td>\n",
       "    </tr>\n",
       "    <tr>\n",
       "      <th>1</th>\n",
       "      <td>Other book</td>\n",
       "      <td>NaN</td>\n",
       "      <td>NaN</td>\n",
       "    </tr>\n",
       "  </tbody>\n",
       "</table>\n",
       "</div>"
      ],
      "text/plain": [
       "        title  author  judgement\n",
       "0     My book     NaN        NaN\n",
       "1  Other book     NaN        NaN"
      ]
     },
     "execution_count": 85,
     "metadata": {},
     "output_type": "execute_result"
    }
   ],
   "source": [
    "example0"
   ]
  },
  {
   "cell_type": "code",
   "execution_count": 83,
   "id": "a0c693f5",
   "metadata": {},
   "outputs": [
    {
     "data": {
      "text/html": [
       "<div>\n",
       "<style scoped>\n",
       "    .dataframe tbody tr th:only-of-type {\n",
       "        vertical-align: middle;\n",
       "    }\n",
       "\n",
       "    .dataframe tbody tr th {\n",
       "        vertical-align: top;\n",
       "    }\n",
       "\n",
       "    .dataframe thead th {\n",
       "        text-align: right;\n",
       "    }\n",
       "</style>\n",
       "<table border=\"1\" class=\"dataframe\">\n",
       "  <thead>\n",
       "    <tr style=\"text-align: right;\">\n",
       "      <th></th>\n",
       "      <th>title</th>\n",
       "      <th>judgement</th>\n",
       "      <th>author-name</th>\n",
       "    </tr>\n",
       "  </thead>\n",
       "  <tbody>\n",
       "    <tr>\n",
       "      <th>0</th>\n",
       "      <td>My book</td>\n",
       "      <td>NaN</td>\n",
       "      <td>SmithUK</td>\n",
       "    </tr>\n",
       "    <tr>\n",
       "      <th>1</th>\n",
       "      <td>My book</td>\n",
       "      <td>NaN</td>\n",
       "      <td>WallaceUK_US</td>\n",
       "    </tr>\n",
       "    <tr>\n",
       "      <th>2</th>\n",
       "      <td>My book</td>\n",
       "      <td>NaN</td>\n",
       "      <td>BrownUK</td>\n",
       "    </tr>\n",
       "    <tr>\n",
       "      <th>3</th>\n",
       "      <td>Other book</td>\n",
       "      <td>NaN</td>\n",
       "      <td>KingUS</td>\n",
       "    </tr>\n",
       "    <tr>\n",
       "      <th>4</th>\n",
       "      <td>Other book</td>\n",
       "      <td>NaN</td>\n",
       "      <td>QueenKentucky</td>\n",
       "    </tr>\n",
       "  </tbody>\n",
       "</table>\n",
       "</div>"
      ],
      "text/plain": [
       "        title  judgement    author-name\n",
       "0     My book        NaN        SmithUK\n",
       "1     My book        NaN   WallaceUK_US\n",
       "2     My book        NaN        BrownUK\n",
       "3  Other book        NaN         KingUS\n",
       "4  Other book        NaN  QueenKentucky"
      ]
     },
     "execution_count": 83,
     "metadata": {},
     "output_type": "execute_result"
    }
   ],
   "source": [
    "example"
   ]
  },
  {
   "cell_type": "markdown",
   "id": "35abcf23",
   "metadata": {},
   "source": [
    "# Work on real dictionary data"
   ]
  },
  {
   "cell_type": "code",
   "execution_count": 33,
   "id": "3d30375d",
   "metadata": {},
   "outputs": [],
   "source": [
    "xml_file = 'JMdict_sample.xml'\n",
    "xsl_file = 'JMdict_xsl.xml'\n",
    "\n",
    "live0, live = parse_flatten(xml_file, xsl_file)"
   ]
  },
  {
   "cell_type": "code",
   "execution_count": 34,
   "id": "1cb7178c",
   "metadata": {},
   "outputs": [
    {
     "data": {
      "text/html": [
       "<div>\n",
       "<style scoped>\n",
       "    .dataframe tbody tr th:only-of-type {\n",
       "        vertical-align: middle;\n",
       "    }\n",
       "\n",
       "    .dataframe tbody tr th {\n",
       "        vertical-align: top;\n",
       "    }\n",
       "\n",
       "    .dataframe thead th {\n",
       "        text-align: right;\n",
       "    }\n",
       "</style>\n",
       "<table border=\"1\" class=\"dataframe\">\n",
       "  <thead>\n",
       "    <tr style=\"text-align: right;\">\n",
       "      <th></th>\n",
       "      <th>ent_seq</th>\n",
       "      <th>k_ele</th>\n",
       "      <th>r_ele</th>\n",
       "      <th>sense</th>\n",
       "    </tr>\n",
       "  </thead>\n",
       "  <tbody>\n",
       "    <tr>\n",
       "      <th>0</th>\n",
       "      <td>1631880</td>\n",
       "      <td>NaN</td>\n",
       "      <td>NaN</td>\n",
       "      <td>NaN</td>\n",
       "    </tr>\n",
       "  </tbody>\n",
       "</table>\n",
       "</div>"
      ],
      "text/plain": [
       "   ent_seq  k_ele  r_ele  sense\n",
       "0  1631880    NaN    NaN    NaN"
      ]
     },
     "execution_count": 34,
     "metadata": {},
     "output_type": "execute_result"
    }
   ],
   "source": [
    "live0"
   ]
  },
  {
   "cell_type": "code",
   "execution_count": 35,
   "id": "14bd82bf",
   "metadata": {},
   "outputs": [
    {
     "data": {
      "text/html": [
       "<div>\n",
       "<style scoped>\n",
       "    .dataframe tbody tr th:only-of-type {\n",
       "        vertical-align: middle;\n",
       "    }\n",
       "\n",
       "    .dataframe tbody tr th {\n",
       "        vertical-align: top;\n",
       "    }\n",
       "\n",
       "    .dataframe thead th {\n",
       "        text-align: right;\n",
       "    }\n",
       "</style>\n",
       "<table border=\"1\" class=\"dataframe\">\n",
       "  <thead>\n",
       "    <tr style=\"text-align: right;\">\n",
       "      <th></th>\n",
       "      <th>ent_seq</th>\n",
       "      <th>k_ele</th>\n",
       "      <th>r_ele</th>\n",
       "      <th>sense</th>\n",
       "    </tr>\n",
       "  </thead>\n",
       "  <tbody>\n",
       "    <tr>\n",
       "      <th>0</th>\n",
       "      <td>1631880</td>\n",
       "      <td>NaN</td>\n",
       "      <td>NaN</td>\n",
       "      <td>NaN</td>\n",
       "    </tr>\n",
       "  </tbody>\n",
       "</table>\n",
       "</div>"
      ],
      "text/plain": [
       "   ent_seq  k_ele  r_ele  sense\n",
       "0  1631880    NaN    NaN    NaN"
      ]
     },
     "execution_count": 35,
     "metadata": {},
     "output_type": "execute_result"
    }
   ],
   "source": [
    "live"
   ]
  },
  {
   "cell_type": "code",
   "execution_count": null,
   "id": "04118e18",
   "metadata": {},
   "outputs": [],
   "source": []
  },
  {
   "cell_type": "code",
   "execution_count": null,
   "id": "69872ad1",
   "metadata": {},
   "outputs": [],
   "source": [
    "jmd[jmd['ent_seq']==1431690]"
   ]
  }
 ],
 "metadata": {
  "kernelspec": {
   "display_name": "Python 3 (ipykernel)",
   "language": "python",
   "name": "python3"
  },
  "language_info": {
   "codemirror_mode": {
    "name": "ipython",
    "version": 3
   },
   "file_extension": ".py",
   "mimetype": "text/x-python",
   "name": "python",
   "nbconvert_exporter": "python",
   "pygments_lexer": "ipython3",
   "version": "3.9.1"
  }
 },
 "nbformat": 4,
 "nbformat_minor": 5
}
