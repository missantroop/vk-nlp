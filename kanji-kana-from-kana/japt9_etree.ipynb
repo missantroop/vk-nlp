{
 "cells": [
  {
   "cell_type": "code",
   "execution_count": 73,
   "id": "15588754",
   "metadata": {},
   "outputs": [],
   "source": [
    "import xml.etree.ElementTree as ET\n",
    "\n",
    "file = 'nested_example.xml'\n",
    "\n",
    "tree = ET.parse(file)\n",
    "root = tree.getroot()\n",
    "\n",
    "level = 'book'\n",
    "flats = ['id','title']\n",
    "gets = {'author':['name', 'nat']}"
   ]
  },
  {
   "cell_type": "code",
   "execution_count": 76,
   "id": "1807f4c3",
   "metadata": {},
   "outputs": [],
   "source": [
    "D = []\n",
    "\n",
    "for item in root.iter(level):\n",
    "    d = {}\n",
    "    \n",
    "    for flat in flats:\n",
    "        d[flat] = item.find(flat).text\n",
    "        \n",
    "    for get in gets.keys():\n",
    "        for get_field in gets[get]:\n",
    "            name = '_'.join([get,get_field])\n",
    "            \n",
    "            d[name] = item.find(get).find(get_field).text\n",
    "\n",
    "    D.append(d)"
   ]
  },
  {
   "cell_type": "code",
   "execution_count": 77,
   "id": "8d4d4871",
   "metadata": {},
   "outputs": [
    {
     "data": {
      "text/plain": [
       "[{'id': '1', 'title': 'My book', 'author_name': 'Smith', 'author_nat': 'UK'},\n",
       " {'id': '2', 'title': 'Other book', 'author_name': 'King', 'author_nat': 'US'}]"
      ]
     },
     "execution_count": 77,
     "metadata": {},
     "output_type": "execute_result"
    }
   ],
   "source": [
    "D"
   ]
  },
  {
   "cell_type": "code",
   "execution_count": 79,
   "id": "1fc743e6",
   "metadata": {},
   "outputs": [
    {
     "data": {
      "text/html": [
       "<div>\n",
       "<style scoped>\n",
       "    .dataframe tbody tr th:only-of-type {\n",
       "        vertical-align: middle;\n",
       "    }\n",
       "\n",
       "    .dataframe tbody tr th {\n",
       "        vertical-align: top;\n",
       "    }\n",
       "\n",
       "    .dataframe thead th {\n",
       "        text-align: right;\n",
       "    }\n",
       "</style>\n",
       "<table border=\"1\" class=\"dataframe\">\n",
       "  <thead>\n",
       "    <tr style=\"text-align: right;\">\n",
       "      <th></th>\n",
       "      <th>id</th>\n",
       "      <th>title</th>\n",
       "      <th>author_name</th>\n",
       "      <th>author_nat</th>\n",
       "    </tr>\n",
       "  </thead>\n",
       "  <tbody>\n",
       "    <tr>\n",
       "      <th>0</th>\n",
       "      <td>1</td>\n",
       "      <td>My book</td>\n",
       "      <td>Smith</td>\n",
       "      <td>UK</td>\n",
       "    </tr>\n",
       "    <tr>\n",
       "      <th>1</th>\n",
       "      <td>2</td>\n",
       "      <td>Other book</td>\n",
       "      <td>King</td>\n",
       "      <td>US</td>\n",
       "    </tr>\n",
       "  </tbody>\n",
       "</table>\n",
       "</div>"
      ],
      "text/plain": [
       "  id       title author_name author_nat\n",
       "0  1     My book       Smith         UK\n",
       "1  2  Other book        King         US"
      ]
     },
     "execution_count": 79,
     "metadata": {},
     "output_type": "execute_result"
    }
   ],
   "source": [
    "import pandas as pd\n",
    "pd.DataFrame(D)"
   ]
  },
  {
   "cell_type": "code",
   "execution_count": 9,
   "id": "3351b31d",
   "metadata": {},
   "outputs": [
    {
     "name": "stdout",
     "output_type": "stream",
     "text": [
      "book, \n",
      "        \n",
      "book, \n",
      "        \n"
     ]
    }
   ],
   "source": [
    "for child in root:\n",
    "    print(', '.join([child.tag,child.text]))\n",
    "\n",
    "#for elem in tree.iter():\n",
    "#    print(', '.join([elem.tag,elem.text]))"
   ]
  },
  {
   "cell_type": "code",
   "execution_count": 47,
   "id": "6c0095c2",
   "metadata": {},
   "outputs": [
    {
     "name": "stdout",
     "output_type": "stream",
     "text": [
      "1\n",
      "2\n"
     ]
    }
   ],
   "source": [
    "for x in root.iter('book'):\n",
    "    print(x.find('id').text)\n",
    "  #  for y in x.iter():\n",
    "  #      print(''.join(['title=', y.get('id')]))\n",
    "  #      print(', '.join([y.tag,y.text]))"
   ]
  },
  {
   "cell_type": "code",
   "execution_count": 11,
   "id": "94e98594",
   "metadata": {
    "scrolled": false
   },
   "outputs": [
    {
     "name": "stdout",
     "output_type": "stream",
     "text": [
      "Help on Element object:\n",
      "\n",
      "class Element(builtins.object)\n",
      " |  Methods defined here:\n",
      " |  \n",
      " |  __copy__(self, /)\n",
      " |  \n",
      " |  __deepcopy__(self, memo, /)\n",
      " |  \n",
      " |  __delitem__(self, key, /)\n",
      " |      Delete self[key].\n",
      " |  \n",
      " |  __getattribute__(self, name, /)\n",
      " |      Return getattr(self, name).\n",
      " |  \n",
      " |  __getitem__(self, key, /)\n",
      " |      Return self[key].\n",
      " |  \n",
      " |  __getstate__(self, /)\n",
      " |  \n",
      " |  __init__(self, /, *args, **kwargs)\n",
      " |      Initialize self.  See help(type(self)) for accurate signature.\n",
      " |  \n",
      " |  __len__(self, /)\n",
      " |      Return len(self).\n",
      " |  \n",
      " |  __repr__(self, /)\n",
      " |      Return repr(self).\n",
      " |  \n",
      " |  __setitem__(self, key, value, /)\n",
      " |      Set self[key] to value.\n",
      " |  \n",
      " |  __setstate__(self, state, /)\n",
      " |  \n",
      " |  __sizeof__(self, /)\n",
      " |      Size of object in memory, in bytes.\n",
      " |  \n",
      " |  append(self, subelement, /)\n",
      " |  \n",
      " |  clear(self, /)\n",
      " |  \n",
      " |  extend(self, elements, /)\n",
      " |  \n",
      " |  find(self, /, path, namespaces=None)\n",
      " |  \n",
      " |  findall(self, /, path, namespaces=None)\n",
      " |  \n",
      " |  findtext(self, /, path, default=None, namespaces=None)\n",
      " |  \n",
      " |  get(self, /, key, default=None)\n",
      " |  \n",
      " |  insert(self, index, subelement, /)\n",
      " |  \n",
      " |  items(self, /)\n",
      " |  \n",
      " |  iter(self, /, tag=None)\n",
      " |  \n",
      " |  iterfind(self, /, path, namespaces=None)\n",
      " |  \n",
      " |  itertext(self, /)\n",
      " |  \n",
      " |  keys(self, /)\n",
      " |  \n",
      " |  makeelement(self, tag, attrib, /)\n",
      " |  \n",
      " |  remove(self, subelement, /)\n",
      " |  \n",
      " |  set(self, key, value, /)\n",
      " |  \n",
      " |  ----------------------------------------------------------------------\n",
      " |  Static methods defined here:\n",
      " |  \n",
      " |  __new__(*args, **kwargs) from builtins.type\n",
      " |      Create and return a new object.  See help(type) for accurate signature.\n",
      " |  \n",
      " |  ----------------------------------------------------------------------\n",
      " |  Data descriptors defined here:\n",
      " |  \n",
      " |  attrib\n",
      " |      A dictionary containing the element's attributes\n",
      " |  \n",
      " |  tag\n",
      " |      A string identifying what kind of data this element represents\n",
      " |  \n",
      " |  tail\n",
      " |      A string of text directly after the end tag, or None\n",
      " |  \n",
      " |  text\n",
      " |      A string of text directly after the start tag, or None\n",
      "\n"
     ]
    }
   ],
   "source": [
    "help(root)"
   ]
  },
  {
   "cell_type": "code",
   "execution_count": 9,
   "id": "ffc67035",
   "metadata": {},
   "outputs": [],
   "source": [
    "import pandas as pd\n",
    "jmd = pd.read_xml(file,parser='etree')"
   ]
  },
  {
   "cell_type": "code",
   "execution_count": 10,
   "id": "2156a3ef",
   "metadata": {},
   "outputs": [
    {
     "data": {
      "text/html": [
       "<div>\n",
       "<style scoped>\n",
       "    .dataframe tbody tr th:only-of-type {\n",
       "        vertical-align: middle;\n",
       "    }\n",
       "\n",
       "    .dataframe tbody tr th {\n",
       "        vertical-align: top;\n",
       "    }\n",
       "\n",
       "    .dataframe thead th {\n",
       "        text-align: right;\n",
       "    }\n",
       "</style>\n",
       "<table border=\"1\" class=\"dataframe\">\n",
       "  <thead>\n",
       "    <tr style=\"text-align: right;\">\n",
       "      <th></th>\n",
       "      <th>AmazonOrderID</th>\n",
       "      <th>MerchantOrderID</th>\n",
       "      <th>ShipmentID</th>\n",
       "      <th>MarketplaceName</th>\n",
       "      <th>MerchantFulfillmentID</th>\n",
       "      <th>PostedDate</th>\n",
       "      <th>Item</th>\n",
       "    </tr>\n",
       "  </thead>\n",
       "  <tbody>\n",
       "    <tr>\n",
       "      <th>0</th>\n",
       "      <td>406-6143419-7223518</td>\n",
       "      <td>None</td>\n",
       "      <td>None</td>\n",
       "      <td>None</td>\n",
       "      <td>None</td>\n",
       "      <td>None</td>\n",
       "      <td>NaN</td>\n",
       "    </tr>\n",
       "    <tr>\n",
       "      <th>1</th>\n",
       "      <td>None</td>\n",
       "      <td>406-6143419-7223518</td>\n",
       "      <td>None</td>\n",
       "      <td>None</td>\n",
       "      <td>None</td>\n",
       "      <td>None</td>\n",
       "      <td>NaN</td>\n",
       "    </tr>\n",
       "    <tr>\n",
       "      <th>2</th>\n",
       "      <td>None</td>\n",
       "      <td>None</td>\n",
       "      <td>DDNSkvgJN</td>\n",
       "      <td>None</td>\n",
       "      <td>None</td>\n",
       "      <td>None</td>\n",
       "      <td>NaN</td>\n",
       "    </tr>\n",
       "    <tr>\n",
       "      <th>3</th>\n",
       "      <td>None</td>\n",
       "      <td>None</td>\n",
       "      <td>None</td>\n",
       "      <td>Amazon.in</td>\n",
       "      <td>None</td>\n",
       "      <td>None</td>\n",
       "      <td>NaN</td>\n",
       "    </tr>\n",
       "    <tr>\n",
       "      <th>4</th>\n",
       "      <td>None</td>\n",
       "      <td>None</td>\n",
       "      <td>None</td>\n",
       "      <td>None</td>\n",
       "      <td>AFN</td>\n",
       "      <td>2017-07-22T08:31:18+00:00</td>\n",
       "      <td>NaN</td>\n",
       "    </tr>\n",
       "  </tbody>\n",
       "</table>\n",
       "</div>"
      ],
      "text/plain": [
       "         AmazonOrderID      MerchantOrderID ShipmentID MarketplaceName  \\\n",
       "0  406-6143419-7223518                 None       None            None   \n",
       "1                 None  406-6143419-7223518       None            None   \n",
       "2                 None                 None  DDNSkvgJN            None   \n",
       "3                 None                 None       None       Amazon.in   \n",
       "4                 None                 None       None            None   \n",
       "\n",
       "  MerchantFulfillmentID                 PostedDate  Item  \n",
       "0                  None                       None   NaN  \n",
       "1                  None                       None   NaN  \n",
       "2                  None                       None   NaN  \n",
       "3                  None                       None   NaN  \n",
       "4                   AFN  2017-07-22T08:31:18+00:00   NaN  "
      ]
     },
     "execution_count": 10,
     "metadata": {},
     "output_type": "execute_result"
    }
   ],
   "source": [
    "jmd"
   ]
  },
  {
   "cell_type": "code",
   "execution_count": 15,
   "id": "69872ad1",
   "metadata": {},
   "outputs": [
    {
     "data": {
      "text/html": [
       "<div>\n",
       "<style scoped>\n",
       "    .dataframe tbody tr th:only-of-type {\n",
       "        vertical-align: middle;\n",
       "    }\n",
       "\n",
       "    .dataframe tbody tr th {\n",
       "        vertical-align: top;\n",
       "    }\n",
       "\n",
       "    .dataframe thead th {\n",
       "        text-align: right;\n",
       "    }\n",
       "</style>\n",
       "<table border=\"1\" class=\"dataframe\">\n",
       "  <thead>\n",
       "    <tr style=\"text-align: right;\">\n",
       "      <th></th>\n",
       "      <th>ent_seq</th>\n",
       "      <th>r_ele</th>\n",
       "      <th>sense</th>\n",
       "      <th>k_ele</th>\n",
       "    </tr>\n",
       "  </thead>\n",
       "  <tbody>\n",
       "    <tr>\n",
       "      <th>40600</th>\n",
       "      <td>1431690</td>\n",
       "      <td>NaN</td>\n",
       "      <td>NaN</td>\n",
       "      <td>NaN</td>\n",
       "    </tr>\n",
       "  </tbody>\n",
       "</table>\n",
       "</div>"
      ],
      "text/plain": [
       "       ent_seq  r_ele  sense  k_ele\n",
       "40600  1431690    NaN    NaN    NaN"
      ]
     },
     "execution_count": 15,
     "metadata": {},
     "output_type": "execute_result"
    }
   ],
   "source": [
    "jmd[jmd['ent_seq']==1431690]"
   ]
  }
 ],
 "metadata": {
  "kernelspec": {
   "display_name": "Python 3 (ipykernel)",
   "language": "python",
   "name": "python3"
  },
  "language_info": {
   "codemirror_mode": {
    "name": "ipython",
    "version": 3
   },
   "file_extension": ".py",
   "mimetype": "text/x-python",
   "name": "python",
   "nbconvert_exporter": "python",
   "pygments_lexer": "ipython3",
   "version": "3.9.1"
  }
 },
 "nbformat": 4,
 "nbformat_minor": 5
}
